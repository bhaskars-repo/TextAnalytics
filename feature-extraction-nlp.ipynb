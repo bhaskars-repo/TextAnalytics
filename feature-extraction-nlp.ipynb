{
 "cells": [
  {
   "cell_type": "markdown",
   "source": [
    "# Feature Extraction for Natural Language Processing"
   ],
   "metadata": {
    "collapsed": false
   }
  },
  {
   "cell_type": "markdown",
   "source": [
    "#### Python imports"
   ],
   "metadata": {
    "collapsed": false
   }
  },
  {
   "cell_type": "code",
   "execution_count": 1,
   "metadata": {
    "collapsed": true
   },
   "outputs": [],
   "source": [
    "import nltk\n",
    "import pandas as pd\n",
    "from nltk.tokenize import WordPunctTokenizer\n",
    "from sklearn.feature_extraction.text import CountVectorizer\n",
    "from sklearn.feature_extraction.text import TfidfVectorizer"
   ]
  },
  {
   "cell_type": "code",
   "execution_count": 2,
   "outputs": [],
   "source": [
    "%reload_ext watermark"
   ],
   "metadata": {
    "collapsed": false
   }
  },
  {
   "cell_type": "code",
   "execution_count": 3,
   "outputs": [
    {
     "name": "stdout",
     "output_type": "stream",
     "text": [
      "Python implementation: CPython\n",
      "Python version       : 3.10.6\n",
      "IPython version      : 8.7.0\n",
      "\n",
      "pandas: 1.5.2\n",
      "nltk  : 3.8.1\n",
      "\n"
     ]
    }
   ],
   "source": [
    "%watermark -n -v -iv"
   ],
   "metadata": {
    "collapsed": false
   }
  },
  {
   "cell_type": "markdown",
   "source": [
    "#### Set path to nltk data"
   ],
   "metadata": {
    "collapsed": false
   }
  },
  {
   "cell_type": "code",
   "execution_count": 4,
   "outputs": [],
   "source": [
    "nltk.data.path.append(\"./nltk_data\")"
   ],
   "metadata": {
    "collapsed": false
   }
  },
  {
   "cell_type": "markdown",
   "source": [
    "#### Corpus (set of text documents)"
   ],
   "metadata": {
    "collapsed": false
   }
  },
  {
   "cell_type": "code",
   "execution_count": 5,
   "outputs": [
    {
     "data": {
      "text/plain": "['She likes to swim.', 'He loves to read.', 'They like to bike and to swim.']"
     },
     "execution_count": 5,
     "metadata": {},
     "output_type": "execute_result"
    }
   ],
   "source": [
    "sentences = ['She likes to swim.', 'He loves to read.', 'They like to bike and to swim.']\n",
    "sentences"
   ],
   "metadata": {
    "collapsed": false
   }
  },
  {
   "cell_type": "markdown",
   "source": [
    "#### Word and Punctuation Tokenizer"
   ],
   "metadata": {
    "collapsed": false
   }
  },
  {
   "cell_type": "code",
   "execution_count": 6,
   "outputs": [],
   "source": [
    "tokenizer = WordPunctTokenizer()"
   ],
   "metadata": {
    "collapsed": false
   }
  },
  {
   "cell_type": "markdown",
   "source": [
    "#### Normalize the Corpus"
   ],
   "metadata": {
    "collapsed": false
   }
  },
  {
   "cell_type": "code",
   "execution_count": 7,
   "outputs": [
    {
     "data": {
      "text/plain": "['she likes to swim', 'he loves to read', 'they like to bike and to swim']"
     },
     "execution_count": 7,
     "metadata": {},
     "output_type": "execute_result"
    }
   ],
   "source": [
    "for i in range(len(sentences)):\n",
    "    tokens = tokenizer.tokenize(sentences[i])\n",
    "    words = [word.lower() for word in tokens if word.isalpha()]\n",
    "    sentences[i] = ' '.join(words)\n",
    "sentences"
   ],
   "metadata": {
    "collapsed": false
   }
  },
  {
   "cell_type": "markdown",
   "source": [
    "#### Extract unique Unigram words from the Corpus"
   ],
   "metadata": {
    "collapsed": false
   }
  },
  {
   "cell_type": "code",
   "execution_count": 8,
   "outputs": [
    {
     "data": {
      "text/plain": "['she',\n 'likes',\n 'to',\n 'swim',\n 'he',\n 'loves',\n 'read',\n 'they',\n 'like',\n 'bike',\n 'and']"
     },
     "execution_count": 8,
     "metadata": {},
     "output_type": "execute_result"
    }
   ],
   "source": [
    "all_words = []\n",
    "for sentence in sentences:\n",
    "    tokens = tokenizer.tokenize(sentence)\n",
    "    all_words.extend(tokens)\n",
    "words = sorted(set(all_words), key=all_words.index)\n",
    "words"
   ],
   "metadata": {
    "collapsed": false
   }
  },
  {
   "cell_type": "markdown",
   "source": [
    "## One-Hot Encoding"
   ],
   "metadata": {
    "collapsed": false
   }
  },
  {
   "cell_type": "markdown",
   "source": [
    "#### Create an instance of the One-Hot Encoder"
   ],
   "metadata": {
    "collapsed": false
   }
  },
  {
   "cell_type": "code",
   "execution_count": 9,
   "outputs": [],
   "source": [
    "model1 = CountVectorizer(binary=True, vocabulary=words)"
   ],
   "metadata": {
    "collapsed": false
   }
  },
  {
   "cell_type": "markdown",
   "source": [
    "#### One-Hot Encoding as a pandas Dataframe"
   ],
   "metadata": {
    "collapsed": false
   }
  },
  {
   "cell_type": "code",
   "execution_count": 10,
   "outputs": [
    {
     "data": {
      "text/plain": "   she  likes  to  swim  he  loves  read  they  like  bike  and\n0    1      1   1     1   0      0     0     0     0     0    0\n1    0      0   1     0   1      1     1     0     0     0    0\n2    0      0   1     1   0      0     0     1     1     1    1",
      "text/html": "<div>\n<style scoped>\n    .dataframe tbody tr th:only-of-type {\n        vertical-align: middle;\n    }\n\n    .dataframe tbody tr th {\n        vertical-align: top;\n    }\n\n    .dataframe thead th {\n        text-align: right;\n    }\n</style>\n<table border=\"1\" class=\"dataframe\">\n  <thead>\n    <tr style=\"text-align: right;\">\n      <th></th>\n      <th>she</th>\n      <th>likes</th>\n      <th>to</th>\n      <th>swim</th>\n      <th>he</th>\n      <th>loves</th>\n      <th>read</th>\n      <th>they</th>\n      <th>like</th>\n      <th>bike</th>\n      <th>and</th>\n    </tr>\n  </thead>\n  <tbody>\n    <tr>\n      <th>0</th>\n      <td>1</td>\n      <td>1</td>\n      <td>1</td>\n      <td>1</td>\n      <td>0</td>\n      <td>0</td>\n      <td>0</td>\n      <td>0</td>\n      <td>0</td>\n      <td>0</td>\n      <td>0</td>\n    </tr>\n    <tr>\n      <th>1</th>\n      <td>0</td>\n      <td>0</td>\n      <td>1</td>\n      <td>0</td>\n      <td>1</td>\n      <td>1</td>\n      <td>1</td>\n      <td>0</td>\n      <td>0</td>\n      <td>0</td>\n      <td>0</td>\n    </tr>\n    <tr>\n      <th>2</th>\n      <td>0</td>\n      <td>0</td>\n      <td>1</td>\n      <td>1</td>\n      <td>0</td>\n      <td>0</td>\n      <td>0</td>\n      <td>1</td>\n      <td>1</td>\n      <td>1</td>\n      <td>1</td>\n    </tr>\n  </tbody>\n</table>\n</div>"
     },
     "execution_count": 10,
     "metadata": {},
     "output_type": "execute_result"
    }
   ],
   "source": [
    "matrix = model1.fit_transform(sentences).toarray()\n",
    "one_hot_words = pd.DataFrame(data=matrix, columns=words)\n",
    "one_hot_words"
   ],
   "metadata": {
    "collapsed": false
   }
  },
  {
   "cell_type": "markdown",
   "source": [
    "## Bag of Words (BoW)"
   ],
   "metadata": {
    "collapsed": false
   }
  },
  {
   "cell_type": "markdown",
   "source": [
    "#### Create an instance of the BoW model (Unigram)"
   ],
   "metadata": {
    "collapsed": false
   }
  },
  {
   "cell_type": "code",
   "execution_count": 11,
   "outputs": [],
   "source": [
    "model2 = CountVectorizer(vocabulary=words)"
   ],
   "metadata": {
    "collapsed": false
   }
  },
  {
   "cell_type": "markdown",
   "source": [
    "#### Bag of Words as a pandas Dataframe (Unigrams)"
   ],
   "metadata": {
    "collapsed": false
   }
  },
  {
   "cell_type": "code",
   "execution_count": 12,
   "outputs": [
    {
     "data": {
      "text/plain": "   she  likes  to  swim  he  loves  read  they  like  bike  and\n0    1      1   1     1   0      0     0     0     0     0    0\n1    0      0   1     0   1      1     1     0     0     0    0\n2    0      0   2     1   0      0     0     1     1     1    1",
      "text/html": "<div>\n<style scoped>\n    .dataframe tbody tr th:only-of-type {\n        vertical-align: middle;\n    }\n\n    .dataframe tbody tr th {\n        vertical-align: top;\n    }\n\n    .dataframe thead th {\n        text-align: right;\n    }\n</style>\n<table border=\"1\" class=\"dataframe\">\n  <thead>\n    <tr style=\"text-align: right;\">\n      <th></th>\n      <th>she</th>\n      <th>likes</th>\n      <th>to</th>\n      <th>swim</th>\n      <th>he</th>\n      <th>loves</th>\n      <th>read</th>\n      <th>they</th>\n      <th>like</th>\n      <th>bike</th>\n      <th>and</th>\n    </tr>\n  </thead>\n  <tbody>\n    <tr>\n      <th>0</th>\n      <td>1</td>\n      <td>1</td>\n      <td>1</td>\n      <td>1</td>\n      <td>0</td>\n      <td>0</td>\n      <td>0</td>\n      <td>0</td>\n      <td>0</td>\n      <td>0</td>\n      <td>0</td>\n    </tr>\n    <tr>\n      <th>1</th>\n      <td>0</td>\n      <td>0</td>\n      <td>1</td>\n      <td>0</td>\n      <td>1</td>\n      <td>1</td>\n      <td>1</td>\n      <td>0</td>\n      <td>0</td>\n      <td>0</td>\n      <td>0</td>\n    </tr>\n    <tr>\n      <th>2</th>\n      <td>0</td>\n      <td>0</td>\n      <td>2</td>\n      <td>1</td>\n      <td>0</td>\n      <td>0</td>\n      <td>0</td>\n      <td>1</td>\n      <td>1</td>\n      <td>1</td>\n      <td>1</td>\n    </tr>\n  </tbody>\n</table>\n</div>"
     },
     "execution_count": 12,
     "metadata": {},
     "output_type": "execute_result"
    }
   ],
   "source": [
    "matrix = model2.fit_transform(sentences).toarray()\n",
    "bag_of_words = pd.DataFrame(data=matrix, columns=words)\n",
    "bag_of_words"
   ],
   "metadata": {
    "collapsed": false
   }
  },
  {
   "cell_type": "markdown",
   "source": [
    "#### Create an instance of the BoW model (n-gram)"
   ],
   "metadata": {
    "collapsed": false
   }
  },
  {
   "cell_type": "code",
   "execution_count": 13,
   "outputs": [],
   "source": [
    "model3 = CountVectorizer(ngram_range=(2,2))"
   ],
   "metadata": {
    "collapsed": false
   }
  },
  {
   "cell_type": "markdown",
   "source": [
    "#### Bag of Words as a pandas Dataframe (n-grams)"
   ],
   "metadata": {
    "collapsed": false
   }
  },
  {
   "cell_type": "code",
   "execution_count": 14,
   "outputs": [
    {
     "data": {
      "text/plain": "   and to  bike and  he loves  like to  likes to  loves to  she likes  \\\n0       0         0         0        0         1         0          1   \n1       0         0         1        0         0         1          0   \n2       1         1         0        1         0         0          0   \n\n   they like  to bike  to read  to swim  \n0          0        0        0        1  \n1          0        0        1        0  \n2          1        1        0        1  ",
      "text/html": "<div>\n<style scoped>\n    .dataframe tbody tr th:only-of-type {\n        vertical-align: middle;\n    }\n\n    .dataframe tbody tr th {\n        vertical-align: top;\n    }\n\n    .dataframe thead th {\n        text-align: right;\n    }\n</style>\n<table border=\"1\" class=\"dataframe\">\n  <thead>\n    <tr style=\"text-align: right;\">\n      <th></th>\n      <th>and to</th>\n      <th>bike and</th>\n      <th>he loves</th>\n      <th>like to</th>\n      <th>likes to</th>\n      <th>loves to</th>\n      <th>she likes</th>\n      <th>they like</th>\n      <th>to bike</th>\n      <th>to read</th>\n      <th>to swim</th>\n    </tr>\n  </thead>\n  <tbody>\n    <tr>\n      <th>0</th>\n      <td>0</td>\n      <td>0</td>\n      <td>0</td>\n      <td>0</td>\n      <td>1</td>\n      <td>0</td>\n      <td>1</td>\n      <td>0</td>\n      <td>0</td>\n      <td>0</td>\n      <td>1</td>\n    </tr>\n    <tr>\n      <th>1</th>\n      <td>0</td>\n      <td>0</td>\n      <td>1</td>\n      <td>0</td>\n      <td>0</td>\n      <td>1</td>\n      <td>0</td>\n      <td>0</td>\n      <td>0</td>\n      <td>1</td>\n      <td>0</td>\n    </tr>\n    <tr>\n      <th>2</th>\n      <td>1</td>\n      <td>1</td>\n      <td>0</td>\n      <td>1</td>\n      <td>0</td>\n      <td>0</td>\n      <td>0</td>\n      <td>1</td>\n      <td>1</td>\n      <td>0</td>\n      <td>1</td>\n    </tr>\n  </tbody>\n</table>\n</div>"
     },
     "execution_count": 14,
     "metadata": {},
     "output_type": "execute_result"
    }
   ],
   "source": [
    "matrix = model3.fit_transform(sentences).toarray()\n",
    "bag_of_words2 = pd.DataFrame(data=matrix, columns=model3.get_feature_names_out())\n",
    "bag_of_words2"
   ],
   "metadata": {
    "collapsed": false
   }
  },
  {
   "cell_type": "markdown",
   "source": [
    "## Term Frequency - Inverse Document Frequency (TF-IDF)"
   ],
   "metadata": {
    "collapsed": false
   }
  },
  {
   "cell_type": "markdown",
   "source": [
    "#### Create an instance of the TF-IDF model"
   ],
   "metadata": {
    "collapsed": false
   }
  },
  {
   "cell_type": "code",
   "execution_count": 15,
   "outputs": [],
   "source": [
    "model4 = TfidfVectorizer(vocabulary=words)"
   ],
   "metadata": {
    "collapsed": false
   }
  },
  {
   "cell_type": "markdown",
   "source": [
    "#### TF-IDF as a pandas DataFrame"
   ],
   "metadata": {
    "collapsed": false
   }
  },
  {
   "cell_type": "code",
   "execution_count": 16,
   "outputs": [
    {
     "data": {
      "text/plain": "        she     likes        to      swim        he     loves      read  \\\n0  0.584483  0.584483  0.345205  0.444514  0.000000  0.000000  0.000000   \n1  0.000000  0.000000  0.322745  0.000000  0.546454  0.546454  0.546454   \n2  0.000000  0.000000  0.483296  0.311166  0.000000  0.000000  0.000000   \n\n       they      like      bike       and  \n0  0.000000  0.000000  0.000000  0.000000  \n1  0.000000  0.000000  0.000000  0.000000  \n2  0.409146  0.409146  0.409146  0.409146  ",
      "text/html": "<div>\n<style scoped>\n    .dataframe tbody tr th:only-of-type {\n        vertical-align: middle;\n    }\n\n    .dataframe tbody tr th {\n        vertical-align: top;\n    }\n\n    .dataframe thead th {\n        text-align: right;\n    }\n</style>\n<table border=\"1\" class=\"dataframe\">\n  <thead>\n    <tr style=\"text-align: right;\">\n      <th></th>\n      <th>she</th>\n      <th>likes</th>\n      <th>to</th>\n      <th>swim</th>\n      <th>he</th>\n      <th>loves</th>\n      <th>read</th>\n      <th>they</th>\n      <th>like</th>\n      <th>bike</th>\n      <th>and</th>\n    </tr>\n  </thead>\n  <tbody>\n    <tr>\n      <th>0</th>\n      <td>0.584483</td>\n      <td>0.584483</td>\n      <td>0.345205</td>\n      <td>0.444514</td>\n      <td>0.000000</td>\n      <td>0.000000</td>\n      <td>0.000000</td>\n      <td>0.000000</td>\n      <td>0.000000</td>\n      <td>0.000000</td>\n      <td>0.000000</td>\n    </tr>\n    <tr>\n      <th>1</th>\n      <td>0.000000</td>\n      <td>0.000000</td>\n      <td>0.322745</td>\n      <td>0.000000</td>\n      <td>0.546454</td>\n      <td>0.546454</td>\n      <td>0.546454</td>\n      <td>0.000000</td>\n      <td>0.000000</td>\n      <td>0.000000</td>\n      <td>0.000000</td>\n    </tr>\n    <tr>\n      <th>2</th>\n      <td>0.000000</td>\n      <td>0.000000</td>\n      <td>0.483296</td>\n      <td>0.311166</td>\n      <td>0.000000</td>\n      <td>0.000000</td>\n      <td>0.000000</td>\n      <td>0.409146</td>\n      <td>0.409146</td>\n      <td>0.409146</td>\n      <td>0.409146</td>\n    </tr>\n  </tbody>\n</table>\n</div>"
     },
     "execution_count": 16,
     "metadata": {},
     "output_type": "execute_result"
    }
   ],
   "source": [
    "matrix = model4.fit_transform(sentences).toarray()\n",
    "tf_idf_words = pd.DataFrame(data=matrix, columns=words)\n",
    "tf_idf_words"
   ],
   "metadata": {
    "collapsed": false
   }
  },
  {
   "cell_type": "markdown",
   "source": [
    "#### Display the IDF scores"
   ],
   "metadata": {
    "collapsed": false
   }
  },
  {
   "cell_type": "code",
   "execution_count": 17,
   "outputs": [
    {
     "data": {
      "text/plain": "array([1.69314718, 1.69314718, 1.        , 1.28768207, 1.69314718,\n       1.69314718, 1.69314718, 1.69314718, 1.69314718, 1.69314718,\n       1.69314718])"
     },
     "execution_count": 17,
     "metadata": {},
     "output_type": "execute_result"
    }
   ],
   "source": [
    "model4.idf_"
   ],
   "metadata": {
    "collapsed": false
   }
  },
  {
   "cell_type": "markdown",
   "source": [
    "#### Extract unique Bigrams from the Corpus"
   ],
   "metadata": {
    "collapsed": false
   }
  },
  {
   "cell_type": "code",
   "execution_count": 18,
   "outputs": [
    {
     "data": {
      "text/plain": "['she likes',\n 'likes to',\n 'to swim',\n 'he loves',\n 'loves to',\n 'to read',\n 'they like',\n 'like to',\n 'to bike',\n 'bike and',\n 'and to']"
     },
     "execution_count": 18,
     "metadata": {},
     "output_type": "execute_result"
    }
   ],
   "source": [
    "all_bigrams = []\n",
    "for sentence in sentences:\n",
    "    all_tokens = tokenizer.tokenize(sentence)\n",
    "    bi_tokens = list(nltk.bigrams(all_tokens))\n",
    "    bi_words = [' '.join([w1, w2]) for w1, w2 in bi_tokens]\n",
    "    all_bigrams.extend(bi_words)\n",
    "all_bigrams = sorted(set(all_bigrams), key=all_bigrams.index)\n",
    "all_bigrams"
   ],
   "metadata": {
    "collapsed": false
   }
  },
  {
   "cell_type": "markdown",
   "source": [
    "#### Create an instance of the TF-IDF model (Bigrams)"
   ],
   "metadata": {
    "collapsed": false
   }
  },
  {
   "cell_type": "code",
   "execution_count": 19,
   "outputs": [],
   "source": [
    "model5 = TfidfVectorizer(ngram_range=(2,2), vocabulary=all_bigrams)"
   ],
   "metadata": {
    "collapsed": false
   }
  },
  {
   "cell_type": "markdown",
   "source": [
    "#### TF-IDF as a pandas DataFrame (Bigrams)"
   ],
   "metadata": {
    "collapsed": false
   }
  },
  {
   "cell_type": "code",
   "execution_count": 20,
   "outputs": [
    {
     "data": {
      "text/plain": "   she likes  likes to   to swim  he loves  loves to  to read  they like  \\\n0   0.622766  0.622766  0.473630   0.00000   0.00000  0.00000   0.000000   \n1   0.000000  0.000000  0.000000   0.57735   0.57735  0.57735   0.000000   \n2   0.000000  0.000000  0.322002   0.00000   0.00000  0.00000   0.423394   \n\n    like to   to bike  bike and    and to  \n0  0.000000  0.000000  0.000000  0.000000  \n1  0.000000  0.000000  0.000000  0.000000  \n2  0.423394  0.423394  0.423394  0.423394  ",
      "text/html": "<div>\n<style scoped>\n    .dataframe tbody tr th:only-of-type {\n        vertical-align: middle;\n    }\n\n    .dataframe tbody tr th {\n        vertical-align: top;\n    }\n\n    .dataframe thead th {\n        text-align: right;\n    }\n</style>\n<table border=\"1\" class=\"dataframe\">\n  <thead>\n    <tr style=\"text-align: right;\">\n      <th></th>\n      <th>she likes</th>\n      <th>likes to</th>\n      <th>to swim</th>\n      <th>he loves</th>\n      <th>loves to</th>\n      <th>to read</th>\n      <th>they like</th>\n      <th>like to</th>\n      <th>to bike</th>\n      <th>bike and</th>\n      <th>and to</th>\n    </tr>\n  </thead>\n  <tbody>\n    <tr>\n      <th>0</th>\n      <td>0.622766</td>\n      <td>0.622766</td>\n      <td>0.473630</td>\n      <td>0.00000</td>\n      <td>0.00000</td>\n      <td>0.00000</td>\n      <td>0.000000</td>\n      <td>0.000000</td>\n      <td>0.000000</td>\n      <td>0.000000</td>\n      <td>0.000000</td>\n    </tr>\n    <tr>\n      <th>1</th>\n      <td>0.000000</td>\n      <td>0.000000</td>\n      <td>0.000000</td>\n      <td>0.57735</td>\n      <td>0.57735</td>\n      <td>0.57735</td>\n      <td>0.000000</td>\n      <td>0.000000</td>\n      <td>0.000000</td>\n      <td>0.000000</td>\n      <td>0.000000</td>\n    </tr>\n    <tr>\n      <th>2</th>\n      <td>0.000000</td>\n      <td>0.000000</td>\n      <td>0.322002</td>\n      <td>0.00000</td>\n      <td>0.00000</td>\n      <td>0.00000</td>\n      <td>0.423394</td>\n      <td>0.423394</td>\n      <td>0.423394</td>\n      <td>0.423394</td>\n      <td>0.423394</td>\n    </tr>\n  </tbody>\n</table>\n</div>"
     },
     "execution_count": 20,
     "metadata": {},
     "output_type": "execute_result"
    }
   ],
   "source": [
    "matrix = model5.fit_transform(sentences).toarray()\n",
    "tf_idf_bigrams = pd.DataFrame(data=matrix, columns=all_bigrams)\n",
    "tf_idf_bigrams"
   ],
   "metadata": {
    "collapsed": false
   }
  }
 ],
 "metadata": {
  "kernelspec": {
   "display_name": "Python 3",
   "language": "python",
   "name": "python3"
  },
  "language_info": {
   "codemirror_mode": {
    "name": "ipython",
    "version": 2
   },
   "file_extension": ".py",
   "mimetype": "text/x-python",
   "name": "python",
   "nbconvert_exporter": "python",
   "pygments_lexer": "ipython2",
   "version": "2.7.6"
  }
 },
 "nbformat": 4,
 "nbformat_minor": 0
}
